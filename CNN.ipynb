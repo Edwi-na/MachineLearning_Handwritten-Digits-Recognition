{
 "cells": [
  {
   "cell_type": "markdown",
   "metadata": {
    "id": "EXjcVQAubrzS"
   },
   "source": [
    "# Final Project"
   ]
  },
  {
   "cell_type": "markdown",
   "metadata": {},
   "source": [
    "I will implement a Neural Network with Convolutional Layers (a Convolutional Neural Network) to predict the labels of the class’s aggregated Handwritten Digit Data Set."
   ]
  },
  {
   "cell_type": "code",
   "execution_count": null,
   "metadata": {
    "id": "0glaS6UmY2sW"
   },
   "outputs": [],
   "source": [
    "#importing libraries\n",
    "import numpy as np\n",
    "import pandas as pd\n",
    "import keras\n",
    "#import tensorflow as tf \n",
    "from tensorflow.keras.datasets import mnist\n",
    "from tensorflow.keras.models import Model, Sequential \n",
    "from tensorflow.keras.layers import Conv2D, MaxPooling2D\n",
    "from tensorflow.keras.layers import Flatten, Dropout, Dense, Input\n",
    "from tensorflow.keras.utils import to_categorical\n",
    "from sklearn.metrics import confusion_matrix\n",
    "from tensorflow.keras.optimizers import RMSprop \n"
   ]
  },
  {
   "cell_type": "markdown",
   "metadata": {
    "id": "j2hAxxcKbnRi"
   },
   "source": [
    "Part 1.1: Preparing MNIST and the Collected Handwritten Digits for Training"
   ]
  },
  {
   "cell_type": "markdown",
   "metadata": {
    "id": "u_Oow-qccMpq"
   },
   "source": [
    "\n",
    "\n",
    "> Load the class’s Handwritten Digit Data Set:\n",
    "\n"
   ]
  },
  {
   "cell_type": "code",
   "execution_count": null,
   "metadata": {
    "id": "zb4Dt6OzZhHX"
   },
   "outputs": [],
   "source": [
    "df = pd.read_csv('combined_digits_1.csv')\n",
    "digit_x = df[df.columns[0:784]]\n",
    "digit_y = df[df.columns[784]]"
   ]
  },
  {
   "cell_type": "markdown",
   "metadata": {
    "id": "2j_qLwMYcKTP"
   },
   "source": [
    "\n",
    "\n",
    "> Process the class’s Handwritten Digit Data Set into 4d tensor\n",
    "\n"
   ]
  },
  {
   "cell_type": "code",
   "execution_count": null,
   "metadata": {
    "id": "fWqGwZZzZ1pi"
   },
   "outputs": [],
   "source": [
    "# data processing\n",
    "#reshape\n",
    "digit_x = digit_x.values.reshape((digit_x.shape[0],28,28,1)) \n",
    "#print(digit_x.shape)\n",
    "\n",
    "#normalizing the pixel values\n",
    "digit_x = digit_x.astype('float32')\n",
    "digit_x /= 255\n",
    "\n",
    "#category to 10 classes\n",
    "digit_y = to_categorical(digit_y)"
   ]
  },
  {
   "cell_type": "markdown",
   "metadata": {
    "id": "mRwzXI0ucgMQ"
   },
   "source": [
    "\n",
    "\n",
    "> Pre-modeling processing\n",
    "\n"
   ]
  },
  {
   "cell_type": "code",
   "execution_count": null,
   "metadata": {
    "colab": {
     "base_uri": "https://localhost:8080/"
    },
    "id": "JU0fusHm7qAV",
    "outputId": "16df141b-2688-42dc-f5bf-2f8900a0db2f"
   },
   "outputs": [
    {
     "name": "stdout",
     "output_type": "stream",
     "text": [
      "(60000, 28, 28, 1)\n",
      "(10000, 28, 28, 1)\n"
     ]
    }
   ],
   "source": [
    "#loading data\n",
    "(train_x, train_y), (test_x, test_y) = mnist.load_data()\n",
    "\n",
    "#mnist data processing\n",
    "#reshaping data\n",
    "train_x = train_x.reshape((train_x.shape[0], train_x.shape[1], train_x.shape[2], 1))\n",
    "test_x = test_x.reshape((test_x.shape[0],test_x.shape[1],test_x.shape[2],1)) \n",
    "print(train_x.shape)\n",
    "print(test_x.shape)\n",
    "\n",
    "#normalizing the pixel values\n",
    "train_x = train_x.astype('float32')\n",
    "test_x = test_x.astype('float32')\n",
    "train_x /= 255\n",
    "test_x /= 255\n",
    "\n",
    "#category to 10 classes\n",
    "train_y = to_categorical(train_y, 10)\n",
    "test_y = to_categorical(test_y, 10)"
   ]
  },
  {
   "cell_type": "code",
   "execution_count": null,
   "metadata": {
    "id": "nPcJL4iO7s8g"
   },
   "outputs": [],
   "source": [
    "inpx = (28, 28, 1)\n",
    "inpx = Input(shape=inpx)\n",
    "\n",
    "layer1 = Conv2D(32, kernel_size=(3, 3), activation='relu')(inpx)\n",
    "layer2 = MaxPooling2D(pool_size=(3, 3))(layer1)\n",
    "layer3 = Conv2D(64, (3, 3), activation='relu')(layer2)\n",
    "layer4 = MaxPooling2D(pool_size=(3, 3))(layer3)\n",
    "layer5 = Dropout(0.2)(layer4)\n",
    "layer6 = Flatten()(layer5)\n",
    "layer7 = Dense(128, activation='sigmoid')(layer6)\n",
    "layer8 = Dense(10, activation='softmax')(layer7)\n"
   ]
  },
  {
   "cell_type": "markdown",
   "metadata": {
    "id": "xzPkZBXr2N-p"
   },
   "source": [
    "Part 1.2: Train and Validate your Model"
   ]
  },
  {
   "cell_type": "code",
   "execution_count": null,
   "metadata": {
    "colab": {
     "base_uri": "https://localhost:8080/"
    },
    "id": "FCL1vssr72AY",
    "outputId": "a05b2ab3-9b53-4eae-fa7f-a23f508e7d8a"
   },
   "outputs": [
    {
     "name": "stdout",
     "output_type": "stream",
     "text": [
      "Epoch 1/8\n",
      "200/200 [==============================] - 30s 139ms/step - loss: 0.7842 - accuracy: 0.7903 - val_loss: 0.2294 - val_accuracy: 0.9322\n",
      "Epoch 2/8\n",
      "200/200 [==============================] - 24s 119ms/step - loss: 0.2186 - accuracy: 0.9349 - val_loss: 0.1210 - val_accuracy: 0.9625\n",
      "Epoch 3/8\n",
      "200/200 [==============================] - 23s 115ms/step - loss: 0.1391 - accuracy: 0.9577 - val_loss: 0.0788 - val_accuracy: 0.9764\n",
      "Epoch 4/8\n",
      "200/200 [==============================] - 26s 131ms/step - loss: 0.1062 - accuracy: 0.9682 - val_loss: 0.0612 - val_accuracy: 0.9820\n",
      "Epoch 5/8\n",
      "200/200 [==============================] - 24s 120ms/step - loss: 0.0866 - accuracy: 0.9738 - val_loss: 0.0548 - val_accuracy: 0.9823\n",
      "Epoch 6/8\n",
      "200/200 [==============================] - 23s 115ms/step - loss: 0.0727 - accuracy: 0.9776 - val_loss: 0.0463 - val_accuracy: 0.9858\n",
      "Epoch 7/8\n",
      "200/200 [==============================] - 23s 115ms/step - loss: 0.0646 - accuracy: 0.9797 - val_loss: 0.0401 - val_accuracy: 0.9872\n",
      "Epoch 8/8\n",
      "200/200 [==============================] - 24s 120ms/step - loss: 0.0579 - accuracy: 0.9823 - val_loss: 0.0367 - val_accuracy: 0.9887\n"
     ]
    },
    {
     "data": {
      "text/plain": [
       "<keras.callbacks.History at 0x7ff2012ed7d0>"
      ]
     },
     "execution_count": 33,
     "metadata": {},
     "output_type": "execute_result"
    }
   ],
   "source": [
    "model = Model([inpx], layer8)\n",
    "model.compile(optimizer=RMSprop(),\n",
    "\t\t\tloss=keras.losses.categorical_crossentropy,\n",
    "\t\t\tmetrics=['accuracy'])\n",
    "\n",
    "model.fit(train_x, train_y, validation_data=(test_x,test_y), epochs=8, batch_size=300)"
   ]
  },
  {
   "cell_type": "code",
   "execution_count": null,
   "metadata": {
    "colab": {
     "base_uri": "https://localhost:8080/"
    },
    "id": "GjaRYGB1EsU_",
    "outputId": "a9ec7c05-090a-482d-d705-d2b60c335170"
   },
   "outputs": [
    {
     "name": "stdout",
     "output_type": "stream",
     "text": [
      "313/313 [==============================] - 2s 6ms/step - loss: 0.0367 - accuracy: 0.9887\n",
      "accuracy= 0.9886999726295471\n"
     ]
    }
   ],
   "source": [
    "#evaluting the model on test data\n",
    "score = model.evaluate(test_x,test_y)\n",
    "print('accuracy=', score[1])"
   ]
  },
  {
   "cell_type": "markdown",
   "metadata": {
    "id": "kq6EgtBP2UT5"
   },
   "source": [
    "Part 1.3: Test your Model’s Performance"
   ]
  },
  {
   "cell_type": "code",
   "execution_count": null,
   "metadata": {
    "colab": {
     "base_uri": "https://localhost:8080/"
    },
    "id": "YJJ5o8hIk4ew",
    "outputId": "391c9659-00ea-40c3-ca68-5dc05de3fbbe"
   },
   "outputs": [
    {
     "name": "stdout",
     "output_type": "stream",
     "text": [
      "Accuracy: \n",
      "0.6832079021636877\n",
      "Confusion Matrix: \n",
      "[[224  18  12   8   9  33  19  48  14  75]\n",
      " [  4 373   7   1   2   4   2  18   0   3]\n",
      " [  2  31 278  15   9   5   0  80   0   4]\n",
      " [  2  19   8 294   6  12   0  69   1   9]\n",
      " [  2  22  17   2 314   7   3  36   1  38]\n",
      " [  2  20   5   8   5 346   2  30   2  10]\n",
      " [  3  61  16   0  45  48 227  11   9   5]\n",
      " [  2  21   1   5   2  10   1 362   0   3]\n",
      " [  4  16  27  26   4  25   1  49 231  22]\n",
      " [  6  47   0   6  10  14   2  75   9 256]]\n"
     ]
    }
   ],
   "source": [
    "#model prediction\n",
    "pred = model.predict(digit_x,max_queue_size = 10)\n",
    "#convert predictions classes to one hot vectors\n",
    "y_pred = np.argmax(pred, axis=1)\n",
    "#convert validation observations to one hot vectors\n",
    "y_digit = np.argmax(digit_y, axis=1)\n",
    "\n",
    "#accuracy and confusion matrix\n",
    "accuracy = np.mean(y_digit == y_pred)\n",
    "cm = confusion_matrix(y_digit, y_pred)\n",
    "\n",
    "print('Accuracy: ')\n",
    "print(accuracy)\n",
    "print('Confusion Matrix: ')\n",
    "print(cm)"
   ]
  },
  {
   "cell_type": "markdown",
   "metadata": {
    "id": "4HF5Nsr2314R"
   },
   "source": [
    "Part 1.4: Save Model Object"
   ]
  },
  {
   "cell_type": "code",
   "execution_count": null,
   "metadata": {},
   "outputs": [],
   "source": [
    "model.save(\"CNN_model.h5\")"
   ]
  },
  {
   "cell_type": "code",
   "execution_count": null,
   "metadata": {
    "colab": {
     "base_uri": "https://localhost:8080/"
    },
    "id": "IjSZ4Xy4Afey",
    "outputId": "1a2de9e9-d6ba-4a4c-db7f-9aa568871296"
   },
   "outputs": [
    {
     "name": "stdout",
     "output_type": "stream",
     "text": [
      "Model: \"model_4\"\n",
      "_________________________________________________________________\n",
      " Layer (type)                Output Shape              Param #   \n",
      "=================================================================\n",
      " input_5 (InputLayer)        [(None, 28, 28, 1)]       0         \n",
      "                                                                 \n",
      " conv2d_8 (Conv2D)           (None, 26, 26, 32)        320       \n",
      "                                                                 \n",
      " max_pooling2d_6 (MaxPooling  (None, 8, 8, 32)         0         \n",
      " 2D)                                                             \n",
      "                                                                 \n",
      " conv2d_9 (Conv2D)           (None, 6, 6, 64)          18496     \n",
      "                                                                 \n",
      " max_pooling2d_7 (MaxPooling  (None, 2, 2, 64)         0         \n",
      " 2D)                                                             \n",
      "                                                                 \n",
      " dropout_4 (Dropout)         (None, 2, 2, 64)          0         \n",
      "                                                                 \n",
      " flatten_4 (Flatten)         (None, 256)               0         \n",
      "                                                                 \n",
      " dense_8 (Dense)             (None, 128)               32896     \n",
      "                                                                 \n",
      " dense_9 (Dense)             (None, 10)                1290      \n",
      "                                                                 \n",
      "=================================================================\n",
      "Total params: 53,002\n",
      "Trainable params: 53,002\n",
      "Non-trainable params: 0\n",
      "_________________________________________________________________\n"
     ]
    }
   ],
   "source": [
    "model.summary()"
   ]
  },
  {
   "cell_type": "code",
   "execution_count": null,
   "metadata": {
    "id": "zTdFh9ghusJj"
   },
   "outputs": [],
   "source": [
    "#from tensorflow.keras.models import load_model\n",
    "model1 = load_model(\"cnnModel.h5\")\n"
   ]
  }
 ],
 "metadata": {
  "colab": {
   "collapsed_sections": [],
   "name": "finalProject_xl3070.ipynb",
   "provenance": []
  },
  "kernelspec": {
   "display_name": "Python 3 (ipykernel)",
   "language": "python",
   "name": "python3"
  },
  "language_info": {
   "codemirror_mode": {
    "name": "ipython",
    "version": 3
   },
   "file_extension": ".py",
   "mimetype": "text/x-python",
   "name": "python",
   "nbconvert_exporter": "python",
   "pygments_lexer": "ipython3",
   "version": "3.9.7"
  },
  "toc": {
   "base_numbering": 1,
   "nav_menu": {},
   "number_sections": true,
   "sideBar": true,
   "skip_h1_title": false,
   "title_cell": "Table of Contents",
   "title_sidebar": "Contents",
   "toc_cell": false,
   "toc_position": {},
   "toc_section_display": true,
   "toc_window_display": false
  },
  "varInspector": {
   "cols": {
    "lenName": 16,
    "lenType": 16,
    "lenVar": 40
   },
   "kernels_config": {
    "python": {
     "delete_cmd_postfix": "",
     "delete_cmd_prefix": "del ",
     "library": "var_list.py",
     "varRefreshCmd": "print(var_dic_list())"
    },
    "r": {
     "delete_cmd_postfix": ") ",
     "delete_cmd_prefix": "rm(",
     "library": "var_list.r",
     "varRefreshCmd": "cat(var_dic_list()) "
    }
   },
   "types_to_exclude": [
    "module",
    "function",
    "builtin_function_or_method",
    "instance",
    "_Feature"
   ],
   "window_display": false
  }
 },
 "nbformat": 4,
 "nbformat_minor": 1
}
